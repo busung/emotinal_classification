{
  "nbformat": 4,
  "nbformat_minor": 0,
  "metadata": {
    "colab": {
      "name": "학부연구생.ipynb",
      "provenance": [],
      "authorship_tag": "ABX9TyNDoE4RBek9ESO1qAMXr44G",
      "include_colab_link": true
    },
    "kernelspec": {
      "name": "python3",
      "display_name": "Python 3"
    },
    "language_info": {
      "name": "python"
    }
  },
  "cells": [
    {
      "cell_type": "markdown",
      "metadata": {
        "id": "view-in-github",
        "colab_type": "text"
      },
      "source": [
        "<a href=\"https://colab.research.google.com/github/busung/emotinal_classification/blob/main/%ED%95%99%EB%B6%80%EC%97%B0%EA%B5%AC%EC%83%9D.ipynb\" target=\"_parent\"><img src=\"https://colab.research.google.com/assets/colab-badge.svg\" alt=\"Open In Colab\"/></a>"
      ]
    },
    {
      "cell_type": "code",
      "metadata": {
        "colab": {
          "base_uri": "https://localhost:8080/"
        },
        "id": "oUbInWqu4_sI",
        "outputId": "0d45e1ca-618a-4356-ff11-d2c1cff21db4"
      },
      "source": [
        "from google.colab import drive \n",
        "\n",
        "drive.mount('/content/gdrive/')"
      ],
      "execution_count": null,
      "outputs": [
        {
          "output_type": "stream",
          "text": [
            "Mounted at /content/gdrive/\n"
          ],
          "name": "stdout"
        }
      ]
    },
    {
      "cell_type": "code",
      "metadata": {
        "id": "fMAdKlC_4ypO"
      },
      "source": [
        "import sys, os, re, csv, codecs, numpy as np, pandas as pd\n",
        "import matplotlib.pyplot as plt\n",
        "%matplotlib inline\n",
        "from keras.preprocessing.text import Tokenizer\n",
        "from keras.preprocessing.sequence import pad_sequences\n",
        "from keras.layers import Dense, Input, LSTM, Embedding, Dropout, Activation,SimpleRNN\n",
        "from keras.layers import Bidirectional, GlobalMaxPool1D\n",
        "from keras.models import Model\n",
        "from keras import initializers, regularizers, constraints, optimizers, layers\n",
        "import tensorflow as tf\n",
        "from keras.callbacks import EarlyStopping, ModelCheckpoint"
      ],
      "execution_count": null,
      "outputs": []
    },
    {
      "cell_type": "code",
      "metadata": {
        "id": "dwaGWxq16-di"
      },
      "source": [
        "test=pd.read_csv('/content/gdrive/MyDrive/학부연구/test.csv')\n",
        "train = pd.read_csv('/content/gdrive/MyDrive/학부연구/train.csv')"
      ],
      "execution_count": null,
      "outputs": []
    },
    {
      "cell_type": "code",
      "metadata": {
        "colab": {
          "base_uri": "https://localhost:8080/"
        },
        "id": "TIVSSYPb7onw",
        "outputId": "0922c9a0-ebc7-4bf8-c9a9-fa2c36005b11"
      },
      "source": [
        "train.head(50)"
      ],
      "execution_count": null,
      "outputs": [
        {
          "output_type": "execute_result",
          "data": {
            "text/html": [
              "<div>\n",
              "<style scoped>\n",
              "    .dataframe tbody tr th:only-of-type {\n",
              "        vertical-align: middle;\n",
              "    }\n",
              "\n",
              "    .dataframe tbody tr th {\n",
              "        vertical-align: top;\n",
              "    }\n",
              "\n",
              "    .dataframe thead th {\n",
              "        text-align: right;\n",
              "    }\n",
              "</style>\n",
              "<table border=\"1\" class=\"dataframe\">\n",
              "  <thead>\n",
              "    <tr style=\"text-align: right;\">\n",
              "      <th></th>\n",
              "      <th>id</th>\n",
              "      <th>comment_text</th>\n",
              "      <th>toxic</th>\n",
              "      <th>severe_toxic</th>\n",
              "      <th>obscene</th>\n",
              "      <th>threat</th>\n",
              "      <th>insult</th>\n",
              "      <th>identity_hate</th>\n",
              "    </tr>\n",
              "  </thead>\n",
              "  <tbody>\n",
              "    <tr>\n",
              "      <th>0</th>\n",
              "      <td>0000997932d777bf</td>\n",
              "      <td>Explanation\\nWhy the edits made under my usern...</td>\n",
              "      <td>0</td>\n",
              "      <td>0</td>\n",
              "      <td>0</td>\n",
              "      <td>0</td>\n",
              "      <td>0</td>\n",
              "      <td>0</td>\n",
              "    </tr>\n",
              "    <tr>\n",
              "      <th>1</th>\n",
              "      <td>000103f0d9cfb60f</td>\n",
              "      <td>D'aww! He matches this background colour I'm s...</td>\n",
              "      <td>0</td>\n",
              "      <td>0</td>\n",
              "      <td>0</td>\n",
              "      <td>0</td>\n",
              "      <td>0</td>\n",
              "      <td>0</td>\n",
              "    </tr>\n",
              "    <tr>\n",
              "      <th>2</th>\n",
              "      <td>000113f07ec002fd</td>\n",
              "      <td>Hey man, I'm really not trying to edit war. It...</td>\n",
              "      <td>0</td>\n",
              "      <td>0</td>\n",
              "      <td>0</td>\n",
              "      <td>0</td>\n",
              "      <td>0</td>\n",
              "      <td>0</td>\n",
              "    </tr>\n",
              "    <tr>\n",
              "      <th>3</th>\n",
              "      <td>0001b41b1c6bb37e</td>\n",
              "      <td>\"\\nMore\\nI can't make any real suggestions on ...</td>\n",
              "      <td>0</td>\n",
              "      <td>0</td>\n",
              "      <td>0</td>\n",
              "      <td>0</td>\n",
              "      <td>0</td>\n",
              "      <td>0</td>\n",
              "    </tr>\n",
              "    <tr>\n",
              "      <th>4</th>\n",
              "      <td>0001d958c54c6e35</td>\n",
              "      <td>You, sir, are my hero. Any chance you remember...</td>\n",
              "      <td>0</td>\n",
              "      <td>0</td>\n",
              "      <td>0</td>\n",
              "      <td>0</td>\n",
              "      <td>0</td>\n",
              "      <td>0</td>\n",
              "    </tr>\n",
              "    <tr>\n",
              "      <th>5</th>\n",
              "      <td>00025465d4725e87</td>\n",
              "      <td>\"\\n\\nCongratulations from me as well, use the ...</td>\n",
              "      <td>0</td>\n",
              "      <td>0</td>\n",
              "      <td>0</td>\n",
              "      <td>0</td>\n",
              "      <td>0</td>\n",
              "      <td>0</td>\n",
              "    </tr>\n",
              "    <tr>\n",
              "      <th>6</th>\n",
              "      <td>0002bcb3da6cb337</td>\n",
              "      <td>COCKSUCKER BEFORE YOU PISS AROUND ON MY WORK</td>\n",
              "      <td>1</td>\n",
              "      <td>1</td>\n",
              "      <td>1</td>\n",
              "      <td>0</td>\n",
              "      <td>1</td>\n",
              "      <td>0</td>\n",
              "    </tr>\n",
              "    <tr>\n",
              "      <th>7</th>\n",
              "      <td>00031b1e95af7921</td>\n",
              "      <td>Your vandalism to the Matt Shirvington article...</td>\n",
              "      <td>0</td>\n",
              "      <td>0</td>\n",
              "      <td>0</td>\n",
              "      <td>0</td>\n",
              "      <td>0</td>\n",
              "      <td>0</td>\n",
              "    </tr>\n",
              "    <tr>\n",
              "      <th>8</th>\n",
              "      <td>00037261f536c51d</td>\n",
              "      <td>Sorry if the word 'nonsense' was offensive to ...</td>\n",
              "      <td>0</td>\n",
              "      <td>0</td>\n",
              "      <td>0</td>\n",
              "      <td>0</td>\n",
              "      <td>0</td>\n",
              "      <td>0</td>\n",
              "    </tr>\n",
              "    <tr>\n",
              "      <th>9</th>\n",
              "      <td>00040093b2687caa</td>\n",
              "      <td>alignment on this subject and which are contra...</td>\n",
              "      <td>0</td>\n",
              "      <td>0</td>\n",
              "      <td>0</td>\n",
              "      <td>0</td>\n",
              "      <td>0</td>\n",
              "      <td>0</td>\n",
              "    </tr>\n",
              "    <tr>\n",
              "      <th>10</th>\n",
              "      <td>0005300084f90edc</td>\n",
              "      <td>\"\\nFair use rationale for Image:Wonju.jpg\\n\\nT...</td>\n",
              "      <td>0</td>\n",
              "      <td>0</td>\n",
              "      <td>0</td>\n",
              "      <td>0</td>\n",
              "      <td>0</td>\n",
              "      <td>0</td>\n",
              "    </tr>\n",
              "    <tr>\n",
              "      <th>11</th>\n",
              "      <td>00054a5e18b50dd4</td>\n",
              "      <td>bbq \\n\\nbe a man and lets discuss it-maybe ove...</td>\n",
              "      <td>0</td>\n",
              "      <td>0</td>\n",
              "      <td>0</td>\n",
              "      <td>0</td>\n",
              "      <td>0</td>\n",
              "      <td>0</td>\n",
              "    </tr>\n",
              "    <tr>\n",
              "      <th>12</th>\n",
              "      <td>0005c987bdfc9d4b</td>\n",
              "      <td>Hey... what is it..\\n@ | talk .\\nWhat is it......</td>\n",
              "      <td>1</td>\n",
              "      <td>0</td>\n",
              "      <td>0</td>\n",
              "      <td>0</td>\n",
              "      <td>0</td>\n",
              "      <td>0</td>\n",
              "    </tr>\n",
              "    <tr>\n",
              "      <th>13</th>\n",
              "      <td>0006f16e4e9f292e</td>\n",
              "      <td>Before you start throwing accusations and warn...</td>\n",
              "      <td>0</td>\n",
              "      <td>0</td>\n",
              "      <td>0</td>\n",
              "      <td>0</td>\n",
              "      <td>0</td>\n",
              "      <td>0</td>\n",
              "    </tr>\n",
              "    <tr>\n",
              "      <th>14</th>\n",
              "      <td>00070ef96486d6f9</td>\n",
              "      <td>Oh, and the girl above started her arguments w...</td>\n",
              "      <td>0</td>\n",
              "      <td>0</td>\n",
              "      <td>0</td>\n",
              "      <td>0</td>\n",
              "      <td>0</td>\n",
              "      <td>0</td>\n",
              "    </tr>\n",
              "    <tr>\n",
              "      <th>15</th>\n",
              "      <td>00078f8ce7eb276d</td>\n",
              "      <td>\"\\n\\nJuelz Santanas Age\\n\\nIn 2002, Juelz Sant...</td>\n",
              "      <td>0</td>\n",
              "      <td>0</td>\n",
              "      <td>0</td>\n",
              "      <td>0</td>\n",
              "      <td>0</td>\n",
              "      <td>0</td>\n",
              "    </tr>\n",
              "    <tr>\n",
              "      <th>16</th>\n",
              "      <td>0007e25b2121310b</td>\n",
              "      <td>Bye! \\n\\nDon't look, come or think of comming ...</td>\n",
              "      <td>1</td>\n",
              "      <td>0</td>\n",
              "      <td>0</td>\n",
              "      <td>0</td>\n",
              "      <td>0</td>\n",
              "      <td>0</td>\n",
              "    </tr>\n",
              "    <tr>\n",
              "      <th>17</th>\n",
              "      <td>000897889268bc93</td>\n",
              "      <td>REDIRECT Talk:Voydan Pop Georgiev- Chernodrinski</td>\n",
              "      <td>0</td>\n",
              "      <td>0</td>\n",
              "      <td>0</td>\n",
              "      <td>0</td>\n",
              "      <td>0</td>\n",
              "      <td>0</td>\n",
              "    </tr>\n",
              "    <tr>\n",
              "      <th>18</th>\n",
              "      <td>0009801bd85e5806</td>\n",
              "      <td>The Mitsurugi point made no sense - why not ar...</td>\n",
              "      <td>0</td>\n",
              "      <td>0</td>\n",
              "      <td>0</td>\n",
              "      <td>0</td>\n",
              "      <td>0</td>\n",
              "      <td>0</td>\n",
              "    </tr>\n",
              "    <tr>\n",
              "      <th>19</th>\n",
              "      <td>0009eaea3325de8c</td>\n",
              "      <td>Don't mean to bother you \\n\\nI see that you're...</td>\n",
              "      <td>0</td>\n",
              "      <td>0</td>\n",
              "      <td>0</td>\n",
              "      <td>0</td>\n",
              "      <td>0</td>\n",
              "      <td>0</td>\n",
              "    </tr>\n",
              "    <tr>\n",
              "      <th>20</th>\n",
              "      <td>000b08c464718505</td>\n",
              "      <td>\"\\n\\n Regarding your recent edits \\n\\nOnce aga...</td>\n",
              "      <td>0</td>\n",
              "      <td>0</td>\n",
              "      <td>0</td>\n",
              "      <td>0</td>\n",
              "      <td>0</td>\n",
              "      <td>0</td>\n",
              "    </tr>\n",
              "    <tr>\n",
              "      <th>21</th>\n",
              "      <td>000bfd0867774845</td>\n",
              "      <td>\"\\nGood to know. About me, yeah, I'm studying ...</td>\n",
              "      <td>0</td>\n",
              "      <td>0</td>\n",
              "      <td>0</td>\n",
              "      <td>0</td>\n",
              "      <td>0</td>\n",
              "      <td>0</td>\n",
              "    </tr>\n",
              "    <tr>\n",
              "      <th>22</th>\n",
              "      <td>000c0dfd995809fa</td>\n",
              "      <td>\"\\n\\n Snowflakes are NOT always symmetrical! \\...</td>\n",
              "      <td>0</td>\n",
              "      <td>0</td>\n",
              "      <td>0</td>\n",
              "      <td>0</td>\n",
              "      <td>0</td>\n",
              "      <td>0</td>\n",
              "    </tr>\n",
              "    <tr>\n",
              "      <th>23</th>\n",
              "      <td>000c6a3f0cd3ba8e</td>\n",
              "      <td>\"\\n\\n The Signpost: 24 September 2012 \\n\\n Rea...</td>\n",
              "      <td>0</td>\n",
              "      <td>0</td>\n",
              "      <td>0</td>\n",
              "      <td>0</td>\n",
              "      <td>0</td>\n",
              "      <td>0</td>\n",
              "    </tr>\n",
              "    <tr>\n",
              "      <th>24</th>\n",
              "      <td>000cfee90f50d471</td>\n",
              "      <td>\"\\n\\nRe-considering 1st paragraph edit?\\nI don...</td>\n",
              "      <td>0</td>\n",
              "      <td>0</td>\n",
              "      <td>0</td>\n",
              "      <td>0</td>\n",
              "      <td>0</td>\n",
              "      <td>0</td>\n",
              "    </tr>\n",
              "    <tr>\n",
              "      <th>25</th>\n",
              "      <td>000eefc67a2c930f</td>\n",
              "      <td>Radial symmetry \\n\\nSeveral now extinct lineag...</td>\n",
              "      <td>0</td>\n",
              "      <td>0</td>\n",
              "      <td>0</td>\n",
              "      <td>0</td>\n",
              "      <td>0</td>\n",
              "      <td>0</td>\n",
              "    </tr>\n",
              "    <tr>\n",
              "      <th>26</th>\n",
              "      <td>000f35deef84dc4a</td>\n",
              "      <td>There's no need to apologize. A Wikipedia arti...</td>\n",
              "      <td>0</td>\n",
              "      <td>0</td>\n",
              "      <td>0</td>\n",
              "      <td>0</td>\n",
              "      <td>0</td>\n",
              "      <td>0</td>\n",
              "    </tr>\n",
              "    <tr>\n",
              "      <th>27</th>\n",
              "      <td>000ffab30195c5e1</td>\n",
              "      <td>Yes, because the mother of the child in the ca...</td>\n",
              "      <td>0</td>\n",
              "      <td>0</td>\n",
              "      <td>0</td>\n",
              "      <td>0</td>\n",
              "      <td>0</td>\n",
              "      <td>0</td>\n",
              "    </tr>\n",
              "    <tr>\n",
              "      <th>28</th>\n",
              "      <td>0010307a3a50a353</td>\n",
              "      <td>\"\\nOk. But it will take a bit of work but I ca...</td>\n",
              "      <td>0</td>\n",
              "      <td>0</td>\n",
              "      <td>0</td>\n",
              "      <td>0</td>\n",
              "      <td>0</td>\n",
              "      <td>0</td>\n",
              "    </tr>\n",
              "    <tr>\n",
              "      <th>29</th>\n",
              "      <td>0010833a96e1f886</td>\n",
              "      <td>\"== A barnstar for you! ==\\n\\n  The Real Life ...</td>\n",
              "      <td>0</td>\n",
              "      <td>0</td>\n",
              "      <td>0</td>\n",
              "      <td>0</td>\n",
              "      <td>0</td>\n",
              "      <td>0</td>\n",
              "    </tr>\n",
              "    <tr>\n",
              "      <th>30</th>\n",
              "      <td>0011cc71398479c4</td>\n",
              "      <td>How could I post before the block expires?  Th...</td>\n",
              "      <td>0</td>\n",
              "      <td>0</td>\n",
              "      <td>0</td>\n",
              "      <td>0</td>\n",
              "      <td>0</td>\n",
              "      <td>0</td>\n",
              "    </tr>\n",
              "    <tr>\n",
              "      <th>31</th>\n",
              "      <td>00128363e367d703</td>\n",
              "      <td>Not sure about a heading of 'Fight for Freedom...</td>\n",
              "      <td>0</td>\n",
              "      <td>0</td>\n",
              "      <td>0</td>\n",
              "      <td>0</td>\n",
              "      <td>0</td>\n",
              "      <td>0</td>\n",
              "    </tr>\n",
              "    <tr>\n",
              "      <th>32</th>\n",
              "      <td>001325b8b20ea8aa</td>\n",
              "      <td>Praise \\n\\nlooked at this article about 6 mont...</td>\n",
              "      <td>0</td>\n",
              "      <td>0</td>\n",
              "      <td>0</td>\n",
              "      <td>0</td>\n",
              "      <td>0</td>\n",
              "      <td>0</td>\n",
              "    </tr>\n",
              "    <tr>\n",
              "      <th>33</th>\n",
              "      <td>001363e1dbe91225</td>\n",
              "      <td>I was able to post the above list so quickly b...</td>\n",
              "      <td>0</td>\n",
              "      <td>0</td>\n",
              "      <td>0</td>\n",
              "      <td>0</td>\n",
              "      <td>0</td>\n",
              "      <td>0</td>\n",
              "    </tr>\n",
              "    <tr>\n",
              "      <th>34</th>\n",
              "      <td>0013a8b1a5f26bcb</td>\n",
              "      <td>\"\\nWell, not \"\"before the process\"\" but \"\"befo...</td>\n",
              "      <td>0</td>\n",
              "      <td>0</td>\n",
              "      <td>0</td>\n",
              "      <td>0</td>\n",
              "      <td>0</td>\n",
              "      <td>0</td>\n",
              "    </tr>\n",
              "    <tr>\n",
              "      <th>35</th>\n",
              "      <td>00148d055a169b93</td>\n",
              "      <td>\"\\n\\nNot at all, you are making a straw man ar...</td>\n",
              "      <td>0</td>\n",
              "      <td>0</td>\n",
              "      <td>0</td>\n",
              "      <td>0</td>\n",
              "      <td>0</td>\n",
              "      <td>0</td>\n",
              "    </tr>\n",
              "    <tr>\n",
              "      <th>36</th>\n",
              "      <td>00151a9f93c6b059</td>\n",
              "      <td>\"\\n\\n \"\"Mainland Asia\"\" includes \"\"the lower b...</td>\n",
              "      <td>0</td>\n",
              "      <td>0</td>\n",
              "      <td>0</td>\n",
              "      <td>0</td>\n",
              "      <td>0</td>\n",
              "      <td>0</td>\n",
              "    </tr>\n",
              "    <tr>\n",
              "      <th>37</th>\n",
              "      <td>0015f4aa35ebe9b5</td>\n",
              "      <td>pretty much everyone from warren county/surrou...</td>\n",
              "      <td>0</td>\n",
              "      <td>0</td>\n",
              "      <td>0</td>\n",
              "      <td>0</td>\n",
              "      <td>0</td>\n",
              "      <td>0</td>\n",
              "    </tr>\n",
              "    <tr>\n",
              "      <th>38</th>\n",
              "      <td>00169857adbc989b</td>\n",
              "      <td>Hi Explicit, can you block O Fenian for edit-w...</td>\n",
              "      <td>0</td>\n",
              "      <td>0</td>\n",
              "      <td>0</td>\n",
              "      <td>0</td>\n",
              "      <td>0</td>\n",
              "      <td>0</td>\n",
              "    </tr>\n",
              "    <tr>\n",
              "      <th>39</th>\n",
              "      <td>0016e01b742b8da3</td>\n",
              "      <td>Notability of Rurika Kasuga\\nA tag has been pl...</td>\n",
              "      <td>0</td>\n",
              "      <td>0</td>\n",
              "      <td>0</td>\n",
              "      <td>0</td>\n",
              "      <td>0</td>\n",
              "      <td>0</td>\n",
              "    </tr>\n",
              "    <tr>\n",
              "      <th>40</th>\n",
              "      <td>001735f961a23fc4</td>\n",
              "      <td>\"\\n Sure, but the lead must briefly summarize ...</td>\n",
              "      <td>0</td>\n",
              "      <td>0</td>\n",
              "      <td>0</td>\n",
              "      <td>0</td>\n",
              "      <td>0</td>\n",
              "      <td>0</td>\n",
              "    </tr>\n",
              "    <tr>\n",
              "      <th>41</th>\n",
              "      <td>00173958f46763a2</td>\n",
              "      <td>TFD \\n\\nI think we just eced. I think we respo...</td>\n",
              "      <td>0</td>\n",
              "      <td>0</td>\n",
              "      <td>0</td>\n",
              "      <td>0</td>\n",
              "      <td>0</td>\n",
              "      <td>0</td>\n",
              "    </tr>\n",
              "    <tr>\n",
              "      <th>42</th>\n",
              "      <td>001810bf8c45bf5f</td>\n",
              "      <td>You are gay or antisemmitian? \\n\\nArchangel WH...</td>\n",
              "      <td>1</td>\n",
              "      <td>0</td>\n",
              "      <td>1</td>\n",
              "      <td>0</td>\n",
              "      <td>1</td>\n",
              "      <td>1</td>\n",
              "    </tr>\n",
              "    <tr>\n",
              "      <th>43</th>\n",
              "      <td>00190820581d90ce</td>\n",
              "      <td>FUCK YOUR FILTHY MOTHER IN THE ASS, DRY!</td>\n",
              "      <td>1</td>\n",
              "      <td>0</td>\n",
              "      <td>1</td>\n",
              "      <td>0</td>\n",
              "      <td>1</td>\n",
              "      <td>0</td>\n",
              "    </tr>\n",
              "    <tr>\n",
              "      <th>44</th>\n",
              "      <td>001956c382006abd</td>\n",
              "      <td>I'm Sorry \\n\\nI'm sorry I screwed around with ...</td>\n",
              "      <td>1</td>\n",
              "      <td>0</td>\n",
              "      <td>0</td>\n",
              "      <td>0</td>\n",
              "      <td>0</td>\n",
              "      <td>0</td>\n",
              "    </tr>\n",
              "    <tr>\n",
              "      <th>45</th>\n",
              "      <td>001b2dd65d9d925c</td>\n",
              "      <td>I don't believe the Lisak criticism present th...</td>\n",
              "      <td>0</td>\n",
              "      <td>0</td>\n",
              "      <td>0</td>\n",
              "      <td>0</td>\n",
              "      <td>0</td>\n",
              "      <td>0</td>\n",
              "    </tr>\n",
              "    <tr>\n",
              "      <th>46</th>\n",
              "      <td>001c419c445b5a59</td>\n",
              "      <td>You had a point, and it's now ammended with ap...</td>\n",
              "      <td>0</td>\n",
              "      <td>0</td>\n",
              "      <td>0</td>\n",
              "      <td>0</td>\n",
              "      <td>0</td>\n",
              "      <td>0</td>\n",
              "    </tr>\n",
              "    <tr>\n",
              "      <th>47</th>\n",
              "      <td>001c557175094f10</td>\n",
              "      <td>In other words, you're too lazy to actually po...</td>\n",
              "      <td>0</td>\n",
              "      <td>0</td>\n",
              "      <td>0</td>\n",
              "      <td>0</td>\n",
              "      <td>0</td>\n",
              "      <td>0</td>\n",
              "    </tr>\n",
              "    <tr>\n",
              "      <th>48</th>\n",
              "      <td>001cadfd324f8087</td>\n",
              "      <td>\"\\nAs for your claims of \"\"stalking\"\", that is...</td>\n",
              "      <td>0</td>\n",
              "      <td>0</td>\n",
              "      <td>0</td>\n",
              "      <td>0</td>\n",
              "      <td>0</td>\n",
              "      <td>0</td>\n",
              "    </tr>\n",
              "    <tr>\n",
              "      <th>49</th>\n",
              "      <td>001d874a4d3e8813</td>\n",
              "      <td>\"::::Jmabel; in regards to predominant scholar...</td>\n",
              "      <td>0</td>\n",
              "      <td>0</td>\n",
              "      <td>0</td>\n",
              "      <td>0</td>\n",
              "      <td>0</td>\n",
              "      <td>0</td>\n",
              "    </tr>\n",
              "  </tbody>\n",
              "</table>\n",
              "</div>"
            ],
            "text/plain": [
              "                  id  ... identity_hate\n",
              "0   0000997932d777bf  ...             0\n",
              "1   000103f0d9cfb60f  ...             0\n",
              "2   000113f07ec002fd  ...             0\n",
              "3   0001b41b1c6bb37e  ...             0\n",
              "4   0001d958c54c6e35  ...             0\n",
              "5   00025465d4725e87  ...             0\n",
              "6   0002bcb3da6cb337  ...             0\n",
              "7   00031b1e95af7921  ...             0\n",
              "8   00037261f536c51d  ...             0\n",
              "9   00040093b2687caa  ...             0\n",
              "10  0005300084f90edc  ...             0\n",
              "11  00054a5e18b50dd4  ...             0\n",
              "12  0005c987bdfc9d4b  ...             0\n",
              "13  0006f16e4e9f292e  ...             0\n",
              "14  00070ef96486d6f9  ...             0\n",
              "15  00078f8ce7eb276d  ...             0\n",
              "16  0007e25b2121310b  ...             0\n",
              "17  000897889268bc93  ...             0\n",
              "18  0009801bd85e5806  ...             0\n",
              "19  0009eaea3325de8c  ...             0\n",
              "20  000b08c464718505  ...             0\n",
              "21  000bfd0867774845  ...             0\n",
              "22  000c0dfd995809fa  ...             0\n",
              "23  000c6a3f0cd3ba8e  ...             0\n",
              "24  000cfee90f50d471  ...             0\n",
              "25  000eefc67a2c930f  ...             0\n",
              "26  000f35deef84dc4a  ...             0\n",
              "27  000ffab30195c5e1  ...             0\n",
              "28  0010307a3a50a353  ...             0\n",
              "29  0010833a96e1f886  ...             0\n",
              "30  0011cc71398479c4  ...             0\n",
              "31  00128363e367d703  ...             0\n",
              "32  001325b8b20ea8aa  ...             0\n",
              "33  001363e1dbe91225  ...             0\n",
              "34  0013a8b1a5f26bcb  ...             0\n",
              "35  00148d055a169b93  ...             0\n",
              "36  00151a9f93c6b059  ...             0\n",
              "37  0015f4aa35ebe9b5  ...             0\n",
              "38  00169857adbc989b  ...             0\n",
              "39  0016e01b742b8da3  ...             0\n",
              "40  001735f961a23fc4  ...             0\n",
              "41  00173958f46763a2  ...             0\n",
              "42  001810bf8c45bf5f  ...             1\n",
              "43  00190820581d90ce  ...             0\n",
              "44  001956c382006abd  ...             0\n",
              "45  001b2dd65d9d925c  ...             0\n",
              "46  001c419c445b5a59  ...             0\n",
              "47  001c557175094f10  ...             0\n",
              "48  001cadfd324f8087  ...             0\n",
              "49  001d874a4d3e8813  ...             0\n",
              "\n",
              "[50 rows x 8 columns]"
            ]
          },
          "metadata": {},
          "execution_count": 4
        }
      ]
    },
    {
      "cell_type": "code",
      "metadata": {
        "colab": {
          "base_uri": "https://localhost:8080/"
        },
        "id": "K62jK-bi73iM",
        "outputId": "20966420-fa38-4c93-97cf-debfcefc8c07"
      },
      "source": [
        "#결측치 확인 및 제거\n",
        "train.isnull().any()\n",
        "#test와 train set 모두 결측치가 없으므로 처리할 것 없음"
      ],
      "execution_count": null,
      "outputs": [
        {
          "output_type": "execute_result",
          "data": {
            "text/plain": [
              "id               False\n",
              "comment_text     False\n",
              "toxic            False\n",
              "severe_toxic     False\n",
              "obscene          False\n",
              "threat           False\n",
              "insult           False\n",
              "identity_hate    False\n",
              "dtype: bool"
            ]
          },
          "metadata": {},
          "execution_count": 5
        }
      ]
    },
    {
      "cell_type": "code",
      "metadata": {
        "colab": {
          "base_uri": "https://localhost:8080/"
        },
        "id": "9_24iBNT4qCY",
        "outputId": "9312eeac-db8a-4c8d-e3db-fc864a022823"
      },
      "source": [
        "train.isnull().any()"
      ],
      "execution_count": null,
      "outputs": [
        {
          "output_type": "execute_result",
          "data": {
            "text/plain": [
              "id               False\n",
              "comment_text     False\n",
              "toxic            False\n",
              "severe_toxic     False\n",
              "obscene          False\n",
              "threat           False\n",
              "insult           False\n",
              "identity_hate    False\n",
              "dtype: bool"
            ]
          },
          "metadata": {},
          "execution_count": 6
        }
      ]
    },
    {
      "cell_type": "code",
      "metadata": {
        "colab": {
          "base_uri": "https://localhost:8080/"
        },
        "id": "-BhVWp2hQQ1y",
        "outputId": "fe28e796-51f7-4fd0-8a0a-9fa0e6fa15b6"
      },
      "source": [
        "test.isnull().any()"
      ],
      "execution_count": null,
      "outputs": [
        {
          "output_type": "execute_result",
          "data": {
            "text/plain": [
              "id              False\n",
              "comment_text    False\n",
              "dtype: bool"
            ]
          },
          "metadata": {},
          "execution_count": 7
        }
      ]
    },
    {
      "cell_type": "code",
      "metadata": {
        "id": "iY4C9BYq-MwK"
      },
      "source": [
        "#train data를 X(문장)과 Y(결과값)으로 분해함\n",
        "list_classes = ['toxic','severe_toxic','obscene','threat','insult','identity_hate']\n",
        "y=train[list_classes].values\n",
        "list_sentences_train = train['comment_text']\n",
        "list_sentences_test = test['comment_text']"
      ],
      "execution_count": null,
      "outputs": []
    },
    {
      "cell_type": "code",
      "metadata": {
        "colab": {
          "base_uri": "https://localhost:8080/"
        },
        "id": "iMo33KIKiet5",
        "outputId": "2c290a27-5754-4eb6-a3a6-f0c73cc0e60e"
      },
      "source": [
        "list_sentences_train"
      ],
      "execution_count": null,
      "outputs": [
        {
          "output_type": "execute_result",
          "data": {
            "text/plain": [
              "0         Explanation\\nWhy the edits made under my usern...\n",
              "1         D'aww! He matches this background colour I'm s...\n",
              "2         Hey man, I'm really not trying to edit war. It...\n",
              "3         \"\\nMore\\nI can't make any real suggestions on ...\n",
              "4         You, sir, are my hero. Any chance you remember...\n",
              "                                ...                        \n",
              "159566    \":::::And for the second time of asking, when ...\n",
              "159567    You should be ashamed of yourself \\n\\nThat is ...\n",
              "159568    Spitzer \\n\\nUmm, theres no actual article for ...\n",
              "159569    And it looks like it was actually you who put ...\n",
              "159570    \"\\nAnd ... I really don't think you understand...\n",
              "Name: comment_text, Length: 159571, dtype: object"
            ]
          },
          "metadata": {},
          "execution_count": 9
        }
      ]
    },
    {
      "cell_type": "code",
      "metadata": {
        "colab": {
          "base_uri": "https://localhost:8080/"
        },
        "id": "v8nre-SIjZ4U",
        "outputId": "98646599-efc3-4367-9dc8-2e52ed64cd85"
      },
      "source": [
        "list_sentences_test"
      ],
      "execution_count": null,
      "outputs": [
        {
          "output_type": "execute_result",
          "data": {
            "text/plain": [
              "0         Yo bitch Ja Rule is more succesful then you'll...\n",
              "1         == From RfC == \\n\\n The title is fine as it is...\n",
              "2         \" \\n\\n == Sources == \\n\\n * Zawe Ashton on Lap...\n",
              "3         :If you have a look back at the source, the in...\n",
              "4                 I don't anonymously edit articles at all.\n",
              "                                ...                        \n",
              "153159    . \\n i totally agree, this stuff is nothing bu...\n",
              "153160    == Throw from out field to home plate. == \\n\\n...\n",
              "153161    \" \\n\\n == Okinotorishima categories == \\n\\n I ...\n",
              "153162    \" \\n\\n == \"\"One of the founding nations of the...\n",
              "153163    \" \\n :::Stop already. Your bullshit is not wel...\n",
              "Name: comment_text, Length: 153164, dtype: object"
            ]
          },
          "metadata": {},
          "execution_count": 10
        }
      ]
    },
    {
      "cell_type": "code",
      "metadata": {
        "colab": {
          "base_uri": "https://localhost:8080/"
        },
        "id": "uxBfASAGj-Vs",
        "outputId": "65f2fc63-eed3-4bdb-c52b-c873e615d4c5"
      },
      "source": [
        "y.shape"
      ],
      "execution_count": null,
      "outputs": [
        {
          "output_type": "execute_result",
          "data": {
            "text/plain": [
              "(159571, 6)"
            ]
          },
          "metadata": {},
          "execution_count": 11
        }
      ]
    },
    {
      "cell_type": "code",
      "metadata": {
        "id": "j5DMXQzFApui"
      },
      "source": [
        "#토큰화 => 토큰된 단어의 인덱싱 => 주어진 문장을 인덱싱 번호로 변환\n",
        "#케라스에선 이 과정을 지원해 줌\n",
        "max_features = 20000\n",
        "tokenizer = Tokenizer(num_words=max_features)#문장을 토큰화 시킴\n",
        "tokenizer.fit_on_texts(list(list_sentences_train))#토큰화된 단어들을 인덱싱 시킴\n",
        "list_tokenized_train = tokenizer.texts_to_sequences(list_sentences_train)#train문장을 인덱싱 시킴\n",
        "list_tokenized_test = tokenizer.texts_to_sequences(list_sentences_test)#test문장을 인덱싱 시킴"
      ],
      "execution_count": null,
      "outputs": []
    },
    {
      "cell_type": "code",
      "metadata": {
        "colab": {
          "base_uri": "https://localhost:8080/"
        },
        "id": "oN85U7r3DXtH",
        "outputId": "f0fdab32-038c-41d9-f0ed-0a586690b4af"
      },
      "source": [
        "#문장이 각 단어의 인덱스로 변환된 것을 확인 할 수 있음\n",
        "print(list_tokenized_train[:1])"
      ],
      "execution_count": null,
      "outputs": [
        {
          "output_type": "stream",
          "text": [
            "[[688, 75, 1, 126, 130, 177, 29, 672, 4511, 12052, 1116, 86, 331, 51, 2278, 11448, 50, 6864, 15, 60, 2756, 148, 7, 2937, 34, 117, 1221, 15190, 2825, 4, 45, 59, 244, 1, 365, 31, 1, 38, 27, 143, 73, 3462, 89, 3085, 4583, 2273, 985]]\n"
          ],
          "name": "stdout"
        }
      ]
    },
    {
      "cell_type": "code",
      "metadata": {
        "id": "0JxJrfskDlWR"
      },
      "source": [
        "#문장의 길이가 모두 다르기에 lstm에 넣을 수가 없음 이렇게 문장의 길이를 맞추기 위해\n",
        "#공백을 만들어 의미없는 숫자를 맞추는 것이 패딩\n",
        "maxlen = 200\n",
        "X_t = pad_sequences(list_tokenized_train,maxlen=maxlen)\n",
        "X_te = pad_sequences(list_tokenized_test,maxlen=maxlen)"
      ],
      "execution_count": null,
      "outputs": []
    },
    {
      "cell_type": "code",
      "metadata": {
        "colab": {
          "base_uri": "https://localhost:8080/"
        },
        "id": "xYxe-Wp5zhtn",
        "outputId": "fbd9270e-2ac5-469f-d02c-a3e4555bd971"
      },
      "source": [
        "X_t[0]"
      ],
      "execution_count": null,
      "outputs": [
        {
          "output_type": "execute_result",
          "data": {
            "text/plain": [
              "array([    0,     0,     0,     0,     0,     0,     0,     0,     0,\n",
              "           0,     0,     0,     0,     0,     0,     0,     0,     0,\n",
              "           0,     0,     0,     0,     0,     0,     0,     0,     0,\n",
              "           0,     0,     0,     0,     0,     0,     0,     0,     0,\n",
              "           0,     0,     0,     0,     0,     0,     0,     0,     0,\n",
              "           0,     0,     0,     0,     0,     0,     0,     0,     0,\n",
              "           0,     0,     0,     0,     0,     0,     0,     0,     0,\n",
              "           0,     0,     0,     0,     0,     0,     0,     0,     0,\n",
              "           0,     0,     0,     0,     0,     0,     0,     0,     0,\n",
              "           0,     0,     0,     0,     0,     0,     0,     0,     0,\n",
              "           0,     0,     0,     0,     0,     0,     0,     0,     0,\n",
              "           0,     0,     0,     0,     0,     0,     0,     0,     0,\n",
              "           0,     0,     0,     0,     0,     0,     0,     0,     0,\n",
              "           0,     0,     0,     0,     0,     0,     0,     0,     0,\n",
              "           0,     0,     0,     0,     0,     0,     0,     0,     0,\n",
              "           0,     0,     0,     0,     0,     0,     0,     0,     0,\n",
              "           0,     0,     0,     0,     0,     0,     0,     0,     0,\n",
              "         688,    75,     1,   126,   130,   177,    29,   672,  4511,\n",
              "       12052,  1116,    86,   331,    51,  2278, 11448,    50,  6864,\n",
              "          15,    60,  2756,   148,     7,  2937,    34,   117,  1221,\n",
              "       15190,  2825,     4,    45,    59,   244,     1,   365,    31,\n",
              "           1,    38,    27,   143,    73,  3462,    89,  3085,  4583,\n",
              "        2273,   985], dtype=int32)"
            ]
          },
          "metadata": {},
          "execution_count": 15
        }
      ]
    },
    {
      "cell_type": "code",
      "metadata": {
        "colab": {
          "base_uri": "https://localhost:8080/",
          "height": 265
        },
        "id": "fUmjksxRERrL",
        "outputId": "69d7f073-cb0d-4313-f69f-523b1b486d91"
      },
      "source": [
        "#위의 maxlen의 길이는 문장 길이의 분포를 보고 설정\n",
        "#너무 길다 => 학습 속도 저하 및 저장 공간 부족, 너무 짧다 => 데이터 손실 발생\n",
        "totalNumWords = [len(one_comment) for one_comment in list_tokenized_train]\n",
        "plt.hist(totalNumWords,bins=np.arange(0,410,10))\n",
        "plt.show()\n",
        "#분포를 보면 30이상에서 가장 많긴 하나 위의 과정에선 정보의 손실이 더 걱정되어 200으로 설정\n",
        "#많이 실험과 경험을 통해 결정하면 됨"
      ],
      "execution_count": null,
      "outputs": [
        {
          "output_type": "display_data",
          "data": {
            "image/png": "[encoded data removed]",
            "text/plain": [
              "<Figure size 432x288 with 1 Axes>"
            ]
          },
          "metadata": {
            "tags": [],
            "needs_background": "light"
          }
        }
      ]
    },
    {
      "cell_type": "markdown",
      "metadata": {
        "id": "F8xMmILG14fK"
      },
      "source": [
        "#input이 거쳐가는 과정\n",
        "![image.png](data:image/png;base64,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)"
      ]
    },
    {
      "cell_type": "markdown",
      "metadata": {
        "id": "LTHsH-EMJ25U"
      },
      "source": [
        "1. 길이가 200으로 패딩된 input을 넣는다\n",
        "2. 이것을 임베딩시켜 벡터로 만든다\n",
        "3. 임베딩 벡터를 lstm에 넣어 학습시킨다\n",
        "4. Max Pooling을 이용하여 차원을 감소시킨다\n",
        "5. Dropout을 적용(과적합 방지 및 성능 향상)\n",
        "6. relu. 적용\n",
        "7. Dropout\n",
        "8. sigmoid를 통한 우리가 원하는 output생성\n",
        "(현재 y가 6개의 컬럼으로 0,1한 값을 가지므로)"
      ]
    },
    {
      "cell_type": "markdown",
      "metadata": {
        "id": "IJecRAU9Luyd"
      },
      "source": [
        "- linear : 디폴트 값으로 별도 활성화 함수 없이 입력 뉴런과 가중치의 계산 결과 그대로 출력. Ex) 선형 회귀\n",
        "- sigmoid : 시그모이드 함수. 이진 분류 문제에서 출력층에 주로 사용되는 활성화 함수.\n",
        "- softmax : 소프트맥스 함수. 셋 이상을 분류하는 다중 클래스 분류 문제에서 출력층에 주로 사용되는 활성화 함수.\n",
        "- relu : 렐루 함수. 은닉층에 주로 사용되는 활성화 함수."
      ]
    },
    {
      "cell_type": "markdown",
      "metadata": {
        "id": "NPQG-yJYBk5r"
      },
      "source": [
        "## SimpleRNN"
      ]
    },
    {
      "cell_type": "code",
      "metadata": {
        "id": "LhIi-Yu3Bns2"
      },
      "source": [
        "model = tf.keras.Sequential()"
      ],
      "execution_count": null,
      "outputs": []
    },
    {
      "cell_type": "code",
      "metadata": {
        "colab": {
          "base_uri": "https://localhost:8080/",
          "height": 190
        },
        "id": "PLtaMRYiCbWK",
        "outputId": "3ecb647c-a440-4997-8f79-41e235822a78"
      },
      "source": [
        "model.add(Embedding(max_features, 128, input_length = 200))\n",
        "model.add(SimpleRNN(units=60,activation='relu'))"
      ],
      "execution_count": null,
      "outputs": [
        {
          "output_type": "error",
          "ename": "NameError",
          "evalue": "ignored",
          "traceback": [
            "\u001b[0;31m---------------------------------------------------------------------------\u001b[0m",
            "\u001b[0;31mNameError\u001b[0m                                 Traceback (most recent call last)",
            "\u001b[0;32m<ipython-input-19-ca2b13007797>\u001b[0m in \u001b[0;36m<module>\u001b[0;34m()\u001b[0m\n\u001b[1;32m      1\u001b[0m \u001b[0mmodel\u001b[0m\u001b[0;34m.\u001b[0m\u001b[0madd\u001b[0m\u001b[0;34m(\u001b[0m\u001b[0mEmbedding\u001b[0m\u001b[0;34m(\u001b[0m\u001b[0mmax_features\u001b[0m\u001b[0;34m,\u001b[0m \u001b[0;36m128\u001b[0m\u001b[0;34m,\u001b[0m \u001b[0minput_length\u001b[0m \u001b[0;34m=\u001b[0m \u001b[0;36m200\u001b[0m\u001b[0;34m)\u001b[0m\u001b[0;34m)\u001b[0m\u001b[0;34m\u001b[0m\u001b[0;34m\u001b[0m\u001b[0m\n\u001b[0;32m----> 2\u001b[0;31m \u001b[0mmodel\u001b[0m\u001b[0;34m.\u001b[0m\u001b[0madd\u001b[0m\u001b[0;34m(\u001b[0m\u001b[0mSimpleRNN\u001b[0m\u001b[0;34m(\u001b[0m\u001b[0munits\u001b[0m\u001b[0;34m=\u001b[0m\u001b[0;36m60\u001b[0m\u001b[0;34m,\u001b[0m\u001b[0mactivation\u001b[0m\u001b[0;34m=\u001b[0m\u001b[0;34m'relu'\u001b[0m\u001b[0;34m)\u001b[0m\u001b[0;34m)\u001b[0m\u001b[0;34m\u001b[0m\u001b[0;34m\u001b[0m\u001b[0m\n\u001b[0m",
            "\u001b[0;31mNameError\u001b[0m: name 'SimpleRNN' is not defined"
          ]
        }
      ]
    },
    {
      "cell_type": "markdown",
      "metadata": {
        "id": "-JFRJagkBiwA"
      },
      "source": [
        "## lstm"
      ]
    },
    {
      "cell_type": "code",
      "metadata": {
        "id": "Ad8ZRoQqFcKn"
      },
      "source": [
        "#keras에게 input size를 알려준다\n",
        "inp = Input(shape=(maxlen,))"
      ],
      "execution_count": null,
      "outputs": []
    },
    {
      "cell_type": "code",
      "metadata": {
        "colab": {
          "base_uri": "https://localhost:8080/"
        },
        "id": "PzSAII4AHd0v",
        "outputId": "012fa5a9-6b20-4786-d48f-c1e9bdb905f4"
      },
      "source": [
        "#임베딩(단어를 밀집 벡터의 형태로 표현하는 방법) => 원-핫 인코딩과 달리 진짜 벡터로써 거리를 이용할 수 도 있음\n",
        "embed_size = 128\n",
        "x=Embedding(max_features,embed_size)(inp)\n",
        "x.shape"
      ],
      "execution_count": null,
      "outputs": [
        {
          "output_type": "execute_result",
          "data": {
            "text/plain": [
              "TensorShape([None, 200, 128])"
            ]
          },
          "metadata": {
            "tags": []
          },
          "execution_count": 80
        }
      ]
    },
    {
      "cell_type": "code",
      "metadata": {
        "id": "5qIlIghMtQag"
      },
      "source": [
        ""
      ],
      "execution_count": null,
      "outputs": []
    },
    {
      "cell_type": "code",
      "metadata": {
        "colab": {
          "base_uri": "https://localhost:8080/"
        },
        "id": "C5ESsXSPwWk-",
        "outputId": "93253d94-6a5e-4fdb-9f2b-3472eef3594c"
      },
      "source": [
        "#60 = 우리가 정하는 출력 차원\n",
        "x=LSTM(128,return_sequences=True,name='lstm_layer')(x)\n",
        "x.shape"
      ],
      "execution_count": null,
      "outputs": [
        {
          "output_type": "execute_result",
          "data": {
            "text/plain": [
              "TensorShape([None, 200, 128])"
            ]
          },
          "metadata": {
            "tags": []
          },
          "execution_count": 81
        }
      ]
    },
    {
      "cell_type": "code",
      "metadata": {
        "colab": {
          "base_uri": "https://localhost:8080/"
        },
        "id": "rVe59RvX2Rxq",
        "outputId": "1a338c80-568f-457b-a1bb-3e58711fe211"
      },
      "source": [
        "#출력은 3차원 tensor이기 때문에 이를 2차원으로 낮추어 줘야함\n",
        "#차원을 축소하면 정보의 손실이 일어나는데 이를 줄이기 위해서 Max Pooling을 이용(이것 말고 Average,Max,etc 등등을 활용함)\n",
        "x=GlobalMaxPool1D()(x)\n",
        "x.shape"
      ],
      "execution_count": null,
      "outputs": [
        {
          "output_type": "execute_result",
          "data": {
            "text/plain": [
              "TensorShape([None, 128])"
            ]
          },
          "metadata": {
            "tags": []
          },
          "execution_count": 82
        }
      ]
    },
    {
      "cell_type": "code",
      "metadata": {
        "colab": {
          "base_uri": "https://localhost:8080/"
        },
        "id": "dK9YRugk3_57",
        "outputId": "0f2f4e1c-948b-42a0-d8db-287239dcae19"
      },
      "source": [
        "#데이터의 일부를 무작위적으로 못 쓰게 만들어서 다음층에 이 결측치를 다루게 만들고 전체 네트워크가 더 나은 결과를 만들게 해줌\n",
        "#여기선 10%의 손실을 가함\n",
        "x=Dropout(0.2)(x)\n",
        "x.shape"
      ],
      "execution_count": null,
      "outputs": [
        {
          "output_type": "execute_result",
          "data": {
            "text/plain": [
              "TensorShape([None, 128])"
            ]
          },
          "metadata": {
            "tags": []
          },
          "execution_count": 83
        }
      ]
    },
    {
      "cell_type": "code",
      "metadata": {
        "colab": {
          "base_uri": "https://localhost:8080/"
        },
        "id": "TQECI9LN6d1K",
        "outputId": "deb4308d-0752-42bd-d058-4d4a2b7d4be8"
      },
      "source": [
        "#relu 함수를 적용, 차원을 50으로 낮춤\n",
        "x=Dense(50,activation='relu')(x)\n",
        "x.shape"
      ],
      "execution_count": null,
      "outputs": [
        {
          "output_type": "execute_result",
          "data": {
            "text/plain": [
              "TensorShape([None, 50])"
            ]
          },
          "metadata": {
            "tags": []
          },
          "execution_count": 84
        }
      ]
    },
    {
      "cell_type": "code",
      "metadata": {
        "colab": {
          "base_uri": "https://localhost:8080/"
        },
        "id": "ahz-xRw48c23",
        "outputId": "e4dd63df-3ec3-405a-8738-b539238b849d"
      },
      "source": [
        "x=Dropout(0.2)(x)\n",
        "x.shape"
      ],
      "execution_count": null,
      "outputs": [
        {
          "output_type": "execute_result",
          "data": {
            "text/plain": [
              "TensorShape([None, 50])"
            ]
          },
          "metadata": {
            "tags": []
          },
          "execution_count": 86
        }
      ]
    },
    {
      "cell_type": "code",
      "metadata": {
        "colab": {
          "base_uri": "https://localhost:8080/"
        },
        "id": "71TbUHSr9dRl",
        "outputId": "66b1a1eb-4d65-4cfe-df02-fc234489ff5d"
      },
      "source": [
        "#시그모이드 함수를 이용하여 ouput을 0,1로 바꿔줌 => 위의 y즉 6가지 column 값이 0 인지 1인지 판단해줌\n",
        "#우리가 원하는 결과값이 binary이기 때문에\n",
        "x=Dense(6,activation='sigmoid')(x)\n",
        "x.shape"
      ],
      "execution_count": null,
      "outputs": [
        {
          "output_type": "execute_result",
          "data": {
            "text/plain": [
              "TensorShape([None, 6])"
            ]
          },
          "metadata": {
            "tags": []
          },
          "execution_count": 87
        }
      ]
    },
    {
      "cell_type": "code",
      "metadata": {
        "id": "oyd9XgJQ-SpS"
      },
      "source": [
        "model = Model(inputs = inp, outputs=x)\n",
        "model.compile(loss='binary_crossentropy',\n",
        "              optimizer='adam',\n",
        "              metrics=['accuracy'])"
      ],
      "execution_count": null,
      "outputs": []
    },
    {
      "cell_type": "code",
      "metadata": {
        "id": "y6HgjnEba0Cy"
      },
      "source": [
        "model_path = '{epoch}-{val_loss}.hdf5'\n",
        "\n",
        "# Validation Loss를 기준으로 조건 판단.\n",
        "callback1 = ModelCheckpoint(filepath = model_path, monitor = 'val_loss', verbose = 1, save_best_only = True)\n",
        "\n",
        "# 이전 가장 좋은 결과 대비 10회 이상 후에도 향상 되는 결과가 나오지 않을시 학습 중단.\n",
        "callback2 = EarlyStopping(monitor = 'val_loss', patience=5)"
      ],
      "execution_count": null,
      "outputs": []
    },
    {
      "cell_type": "code",
      "metadata": {
        "colab": {
          "base_uri": "https://localhost:8080/",
          "height": 826
        },
        "id": "r30Fp9Xm-9RE",
        "outputId": "0af03ae8-02ea-453d-d68c-b0bbaa2976b6"
      },
      "source": [
        "batch_size = 32\n",
        "epochs = 20\n",
        "history=model.fit(X_t,y,batch_size=batch_size,epochs=epochs,validation_split=0.1,callbacks = [callback1, callback2])"
      ],
      "execution_count": null,
      "outputs": [
        {
          "output_type": "stream",
          "text": [
            "Epoch 1/20\n",
            "4488/4488 [==============================] - 1232s 274ms/step - loss: 0.0709 - accuracy: 0.9342 - val_loss: 0.0503 - val_accuracy: 0.9940\n",
            "\n",
            "Epoch 00001: val_loss improved from inf to 0.05031, saving model to 1-0.05030584707856178.hdf5\n",
            "Epoch 2/20\n",
            "4488/4488 [==============================] - 1230s 274ms/step - loss: 0.0481 - accuracy: 0.9914 - val_loss: 0.0490 - val_accuracy: 0.9940\n",
            "\n",
            "Epoch 00002: val_loss improved from 0.05031 to 0.04895, saving model to 2-0.04895074665546417.hdf5\n",
            "Epoch 3/20\n",
            "4488/4488 [==============================] - 1238s 276ms/step - loss: 0.0433 - accuracy: 0.9742 - val_loss: 0.0480 - val_accuracy: 0.9940\n",
            "\n",
            "Epoch 00003: val_loss improved from 0.04895 to 0.04795, saving model to 3-0.04795246943831444.hdf5\n",
            "Epoch 4/20\n",
            "4488/4488 [==============================] - 1266s 282ms/step - loss: 0.0390 - accuracy: 0.9729 - val_loss: 0.0507 - val_accuracy: 0.9940\n",
            "\n",
            "Epoch 00004: val_loss did not improve from 0.04795\n",
            "Epoch 5/20\n",
            "4488/4488 [==============================] - 1261s 281ms/step - loss: 0.0354 - accuracy: 0.9568 - val_loss: 0.0527 - val_accuracy: 0.9939\n",
            "\n",
            "Epoch 00005: val_loss did not improve from 0.04795\n",
            "Epoch 6/20\n",
            "4488/4488 [==============================] - 1242s 277ms/step - loss: 0.0323 - accuracy: 0.9201 - val_loss: 0.0564 - val_accuracy: 0.9936\n",
            "\n",
            "Epoch 00006: val_loss did not improve from 0.04795\n",
            "Epoch 7/20\n",
            "1581/4488 [=========>....................] - ETA: 13:00 - loss: 0.0279 - accuracy: 0.8925"
          ],
          "name": "stdout"
        },
        {
          "output_type": "error",
          "ename": "KeyboardInterrupt",
          "evalue": "ignored",
          "traceback": [
            "\u001b[0;31m---------------------------------------------------------------------------\u001b[0m",
            "\u001b[0;31mKeyboardInterrupt\u001b[0m                         Traceback (most recent call last)",
            "\u001b[0;32m<ipython-input-90-0a7668aa7e8b>\u001b[0m in \u001b[0;36m<module>\u001b[0;34m()\u001b[0m\n\u001b[1;32m      1\u001b[0m \u001b[0mbatch_size\u001b[0m \u001b[0;34m=\u001b[0m \u001b[0;36m32\u001b[0m\u001b[0;34m\u001b[0m\u001b[0;34m\u001b[0m\u001b[0m\n\u001b[1;32m      2\u001b[0m \u001b[0mepochs\u001b[0m \u001b[0;34m=\u001b[0m \u001b[0;36m20\u001b[0m\u001b[0;34m\u001b[0m\u001b[0;34m\u001b[0m\u001b[0m\n\u001b[0;32m----> 3\u001b[0;31m \u001b[0mhistory\u001b[0m\u001b[0;34m=\u001b[0m\u001b[0mmodel\u001b[0m\u001b[0;34m.\u001b[0m\u001b[0mfit\u001b[0m\u001b[0;34m(\u001b[0m\u001b[0mX_t\u001b[0m\u001b[0;34m,\u001b[0m\u001b[0my\u001b[0m\u001b[0;34m,\u001b[0m\u001b[0mbatch_size\u001b[0m\u001b[0;34m=\u001b[0m\u001b[0mbatch_size\u001b[0m\u001b[0;34m,\u001b[0m\u001b[0mepochs\u001b[0m\u001b[0;34m=\u001b[0m\u001b[0mepochs\u001b[0m\u001b[0;34m,\u001b[0m\u001b[0mvalidation_split\u001b[0m\u001b[0;34m=\u001b[0m\u001b[0;36m0.1\u001b[0m\u001b[0;34m,\u001b[0m\u001b[0mcallbacks\u001b[0m \u001b[0;34m=\u001b[0m \u001b[0;34m[\u001b[0m\u001b[0mcallback1\u001b[0m\u001b[0;34m,\u001b[0m \u001b[0mcallback2\u001b[0m\u001b[0;34m]\u001b[0m\u001b[0;34m)\u001b[0m\u001b[0;34m\u001b[0m\u001b[0;34m\u001b[0m\u001b[0m\n\u001b[0m",
            "\u001b[0;32m/usr/local/lib/python3.7/dist-packages/keras/engine/training.py\u001b[0m in \u001b[0;36mfit\u001b[0;34m(self, x, y, batch_size, epochs, verbose, callbacks, validation_split, validation_data, shuffle, class_weight, sample_weight, initial_epoch, steps_per_epoch, validation_steps, validation_batch_size, validation_freq, max_queue_size, workers, use_multiprocessing)\u001b[0m\n\u001b[1;32m   1182\u001b[0m                 _r=1):\n\u001b[1;32m   1183\u001b[0m               \u001b[0mcallbacks\u001b[0m\u001b[0;34m.\u001b[0m\u001b[0mon_train_batch_begin\u001b[0m\u001b[0;34m(\u001b[0m\u001b[0mstep\u001b[0m\u001b[0;34m)\u001b[0m\u001b[0;34m\u001b[0m\u001b[0;34m\u001b[0m\u001b[0m\n\u001b[0;32m-> 1184\u001b[0;31m               \u001b[0mtmp_logs\u001b[0m \u001b[0;34m=\u001b[0m \u001b[0mself\u001b[0m\u001b[0;34m.\u001b[0m\u001b[0mtrain_function\u001b[0m\u001b[0;34m(\u001b[0m\u001b[0miterator\u001b[0m\u001b[0;34m)\u001b[0m\u001b[0;34m\u001b[0m\u001b[0;34m\u001b[0m\u001b[0m\n\u001b[0m\u001b[1;32m   1185\u001b[0m               \u001b[0;32mif\u001b[0m \u001b[0mdata_handler\u001b[0m\u001b[0;34m.\u001b[0m\u001b[0mshould_sync\u001b[0m\u001b[0;34m:\u001b[0m\u001b[0;34m\u001b[0m\u001b[0;34m\u001b[0m\u001b[0m\n\u001b[1;32m   1186\u001b[0m                 \u001b[0mcontext\u001b[0m\u001b[0;34m.\u001b[0m\u001b[0masync_wait\u001b[0m\u001b[0;34m(\u001b[0m\u001b[0;34m)\u001b[0m\u001b[0;34m\u001b[0m\u001b[0;34m\u001b[0m\u001b[0m\n",
            "\u001b[0;32m/usr/local/lib/python3.7/dist-packages/tensorflow/python/eager/def_function.py\u001b[0m in \u001b[0;36m__call__\u001b[0;34m(self, *args, **kwds)\u001b[0m\n\u001b[1;32m    883\u001b[0m \u001b[0;34m\u001b[0m\u001b[0m\n\u001b[1;32m    884\u001b[0m       \u001b[0;32mwith\u001b[0m \u001b[0mOptionalXlaContext\u001b[0m\u001b[0;34m(\u001b[0m\u001b[0mself\u001b[0m\u001b[0;34m.\u001b[0m\u001b[0m_jit_compile\u001b[0m\u001b[0;34m)\u001b[0m\u001b[0;34m:\u001b[0m\u001b[0;34m\u001b[0m\u001b[0;34m\u001b[0m\u001b[0m\n\u001b[0;32m--> 885\u001b[0;31m         \u001b[0mresult\u001b[0m \u001b[0;34m=\u001b[0m \u001b[0mself\u001b[0m\u001b[0;34m.\u001b[0m\u001b[0m_call\u001b[0m\u001b[0;34m(\u001b[0m\u001b[0;34m*\u001b[0m\u001b[0margs\u001b[0m\u001b[0;34m,\u001b[0m \u001b[0;34m**\u001b[0m\u001b[0mkwds\u001b[0m\u001b[0;34m)\u001b[0m\u001b[0;34m\u001b[0m\u001b[0;34m\u001b[0m\u001b[0m\n\u001b[0m\u001b[1;32m    886\u001b[0m \u001b[0;34m\u001b[0m\u001b[0m\n\u001b[1;32m    887\u001b[0m       \u001b[0mnew_tracing_count\u001b[0m \u001b[0;34m=\u001b[0m \u001b[0mself\u001b[0m\u001b[0;34m.\u001b[0m\u001b[0mexperimental_get_tracing_count\u001b[0m\u001b[0;34m(\u001b[0m\u001b[0;34m)\u001b[0m\u001b[0;34m\u001b[0m\u001b[0;34m\u001b[0m\u001b[0m\n",
            "\u001b[0;32m/usr/local/lib/python3.7/dist-packages/tensorflow/python/eager/def_function.py\u001b[0m in \u001b[0;36m_call\u001b[0;34m(self, *args, **kwds)\u001b[0m\n\u001b[1;32m    915\u001b[0m       \u001b[0;31m# In this case we have created variables on the first call, so we run the\u001b[0m\u001b[0;34m\u001b[0m\u001b[0;34m\u001b[0m\u001b[0;34m\u001b[0m\u001b[0m\n\u001b[1;32m    916\u001b[0m       \u001b[0;31m# defunned version which is guaranteed to never create variables.\u001b[0m\u001b[0;34m\u001b[0m\u001b[0;34m\u001b[0m\u001b[0;34m\u001b[0m\u001b[0m\n\u001b[0;32m--> 917\u001b[0;31m       \u001b[0;32mreturn\u001b[0m \u001b[0mself\u001b[0m\u001b[0;34m.\u001b[0m\u001b[0m_stateless_fn\u001b[0m\u001b[0;34m(\u001b[0m\u001b[0;34m*\u001b[0m\u001b[0margs\u001b[0m\u001b[0;34m,\u001b[0m \u001b[0;34m**\u001b[0m\u001b[0mkwds\u001b[0m\u001b[0;34m)\u001b[0m  \u001b[0;31m# pylint: disable=not-callable\u001b[0m\u001b[0;34m\u001b[0m\u001b[0;34m\u001b[0m\u001b[0m\n\u001b[0m\u001b[1;32m    918\u001b[0m     \u001b[0;32melif\u001b[0m \u001b[0mself\u001b[0m\u001b[0;34m.\u001b[0m\u001b[0m_stateful_fn\u001b[0m \u001b[0;32mis\u001b[0m \u001b[0;32mnot\u001b[0m \u001b[0;32mNone\u001b[0m\u001b[0;34m:\u001b[0m\u001b[0;34m\u001b[0m\u001b[0;34m\u001b[0m\u001b[0m\n\u001b[1;32m    919\u001b[0m       \u001b[0;31m# Release the lock early so that multiple threads can perform the call\u001b[0m\u001b[0;34m\u001b[0m\u001b[0;34m\u001b[0m\u001b[0;34m\u001b[0m\u001b[0m\n",
            "\u001b[0;32m/usr/local/lib/python3.7/dist-packages/tensorflow/python/eager/function.py\u001b[0m in \u001b[0;36m__call__\u001b[0;34m(self, *args, **kwargs)\u001b[0m\n\u001b[1;32m   3038\u001b[0m        filtered_flat_args) = self._maybe_define_function(args, kwargs)\n\u001b[1;32m   3039\u001b[0m     return graph_function._call_flat(\n\u001b[0;32m-> 3040\u001b[0;31m         filtered_flat_args, captured_inputs=graph_function.captured_inputs)  # pylint: disable=protected-access\n\u001b[0m\u001b[1;32m   3041\u001b[0m \u001b[0;34m\u001b[0m\u001b[0m\n\u001b[1;32m   3042\u001b[0m   \u001b[0;34m@\u001b[0m\u001b[0mproperty\u001b[0m\u001b[0;34m\u001b[0m\u001b[0;34m\u001b[0m\u001b[0m\n",
            "\u001b[0;32m/usr/local/lib/python3.7/dist-packages/tensorflow/python/eager/function.py\u001b[0m in \u001b[0;36m_call_flat\u001b[0;34m(self, args, captured_inputs, cancellation_manager)\u001b[0m\n\u001b[1;32m   1962\u001b[0m       \u001b[0;31m# No tape is watching; skip to running the function.\u001b[0m\u001b[0;34m\u001b[0m\u001b[0;34m\u001b[0m\u001b[0;34m\u001b[0m\u001b[0m\n\u001b[1;32m   1963\u001b[0m       return self._build_call_outputs(self._inference_function.call(\n\u001b[0;32m-> 1964\u001b[0;31m           ctx, args, cancellation_manager=cancellation_manager))\n\u001b[0m\u001b[1;32m   1965\u001b[0m     forward_backward = self._select_forward_and_backward_functions(\n\u001b[1;32m   1966\u001b[0m         \u001b[0margs\u001b[0m\u001b[0;34m,\u001b[0m\u001b[0;34m\u001b[0m\u001b[0;34m\u001b[0m\u001b[0m\n",
            "\u001b[0;32m/usr/local/lib/python3.7/dist-packages/tensorflow/python/eager/function.py\u001b[0m in \u001b[0;36mcall\u001b[0;34m(self, ctx, args, cancellation_manager)\u001b[0m\n\u001b[1;32m    594\u001b[0m               \u001b[0minputs\u001b[0m\u001b[0;34m=\u001b[0m\u001b[0margs\u001b[0m\u001b[0;34m,\u001b[0m\u001b[0;34m\u001b[0m\u001b[0;34m\u001b[0m\u001b[0m\n\u001b[1;32m    595\u001b[0m               \u001b[0mattrs\u001b[0m\u001b[0;34m=\u001b[0m\u001b[0mattrs\u001b[0m\u001b[0;34m,\u001b[0m\u001b[0;34m\u001b[0m\u001b[0;34m\u001b[0m\u001b[0m\n\u001b[0;32m--> 596\u001b[0;31m               ctx=ctx)\n\u001b[0m\u001b[1;32m    597\u001b[0m         \u001b[0;32melse\u001b[0m\u001b[0;34m:\u001b[0m\u001b[0;34m\u001b[0m\u001b[0;34m\u001b[0m\u001b[0m\n\u001b[1;32m    598\u001b[0m           outputs = execute.execute_with_cancellation(\n",
            "\u001b[0;32m/usr/local/lib/python3.7/dist-packages/tensorflow/python/eager/execute.py\u001b[0m in \u001b[0;36mquick_execute\u001b[0;34m(op_name, num_outputs, inputs, attrs, ctx, name)\u001b[0m\n\u001b[1;32m     58\u001b[0m     \u001b[0mctx\u001b[0m\u001b[0;34m.\u001b[0m\u001b[0mensure_initialized\u001b[0m\u001b[0;34m(\u001b[0m\u001b[0;34m)\u001b[0m\u001b[0;34m\u001b[0m\u001b[0;34m\u001b[0m\u001b[0m\n\u001b[1;32m     59\u001b[0m     tensors = pywrap_tfe.TFE_Py_Execute(ctx._handle, device_name, op_name,\n\u001b[0;32m---> 60\u001b[0;31m                                         inputs, attrs, num_outputs)\n\u001b[0m\u001b[1;32m     61\u001b[0m   \u001b[0;32mexcept\u001b[0m \u001b[0mcore\u001b[0m\u001b[0;34m.\u001b[0m\u001b[0m_NotOkStatusException\u001b[0m \u001b[0;32mas\u001b[0m \u001b[0me\u001b[0m\u001b[0;34m:\u001b[0m\u001b[0;34m\u001b[0m\u001b[0;34m\u001b[0m\u001b[0m\n\u001b[1;32m     62\u001b[0m     \u001b[0;32mif\u001b[0m \u001b[0mname\u001b[0m \u001b[0;32mis\u001b[0m \u001b[0;32mnot\u001b[0m \u001b[0;32mNone\u001b[0m\u001b[0;34m:\u001b[0m\u001b[0;34m\u001b[0m\u001b[0;34m\u001b[0m\u001b[0m\n",
            "\u001b[0;31mKeyboardInterrupt\u001b[0m: "
          ]
        }
      ]
    },
    {
      "cell_type": "code",
      "metadata": {
        "colab": {
          "base_uri": "https://localhost:8080/"
        },
        "id": "2k3AX0ie1N50",
        "outputId": "6176313d-59b2-40d5-a239-1f2243431673"
      },
      "source": [
        "model.evaluate(X_t,y)"
      ],
      "execution_count": null,
      "outputs": [
        {
          "output_type": "stream",
          "text": [
            "4987/4987 [==============================] - 331s 66ms/step - loss: 0.0300 - accuracy: 0.9712\n"
          ],
          "name": "stdout"
        },
        {
          "output_type": "execute_result",
          "data": {
            "text/plain": [
              "[0.030006036162376404, 0.9711915254592896]"
            ]
          },
          "metadata": {
            "tags": []
          },
          "execution_count": 77
        }
      ]
    },
    {
      "cell_type": "code",
      "metadata": {
        "colab": {
          "base_uri": "https://localhost:8080/",
          "height": 374
        },
        "id": "R_NcWgEr1Fla",
        "outputId": "055d754b-1470-4b92-de07-1d8743046b6d"
      },
      "source": [
        "# Train Loss\n",
        "y_loss = history.history['loss']\n",
        "# Validation Loss\n",
        "y_vloss = history.history['val_loss']\n",
        "\n",
        "plt.figure(figsize=(8,6))\n",
        "x_len = np.arange(len(y_loss))\n",
        "plt.plot(x_len, y_loss,  label='Train Loss', c='coral', alpha=.8)\n",
        "plt.plot(x_len, y_vloss,  label='Validation Loss', c='cornflowerblue', alpha=.8)\n",
        "plt.legend()\n",
        "plt.show()"
      ],
      "execution_count": null,
      "outputs": [
        {
          "output_type": "display_data",
          "data": {
            "image/png": "[encoded data removed]",
            "text/plain": [
              "<Figure size 576x432 with 1 Axes>"
            ]
          },
          "metadata": {
            "tags": [],
            "needs_background": "light"
          }
        }
      ]
    },
    {
      "cell_type": "code",
      "metadata": {
        "colab": {
          "base_uri": "https://localhost:8080/"
        },
        "id": "yIYZaYFS_E-D",
        "outputId": "b70c5763-4815-442d-a64d-031077dac50c"
      },
      "source": [
        "model.summary()"
      ],
      "execution_count": null,
      "outputs": [
        {
          "output_type": "stream",
          "text": [
            "Model: \"model\"\n",
            "_________________________________________________________________\n",
            "Layer (type)                 Output Shape              Param #   \n",
            "=================================================================\n",
            "input_1 (InputLayer)         [(None, 200)]             0         \n",
            "_________________________________________________________________\n",
            "embedding (Embedding)        (None, 200, 128)          2560000   \n",
            "_________________________________________________________________\n",
            "lstm_layer (LSTM)            (None, 200, 60)           45360     \n",
            "_________________________________________________________________\n",
            "global_max_pooling1d (Global (None, 60)                0         \n",
            "_________________________________________________________________\n",
            "dropout (Dropout)            (None, 60)                0         \n",
            "_________________________________________________________________\n",
            "dense (Dense)                (None, 50)                3050      \n",
            "_________________________________________________________________\n",
            "dropout_1 (Dropout)          (None, 50)                0         \n",
            "_________________________________________________________________\n",
            "dense_1 (Dense)              (None, 6)                 306       \n",
            "=================================================================\n",
            "Total params: 2,608,716\n",
            "Trainable params: 2,608,716\n",
            "Non-trainable params: 0\n",
            "_________________________________________________________________\n"
          ],
          "name": "stdout"
        }
      ]
    },
    {
      "cell_type": "code",
      "metadata": {
        "colab": {
          "base_uri": "https://localhost:8080/"
        },
        "id": "g3eId750IT7H",
        "outputId": "201fd2f9-11a4-4117-8ee9-d9cf16820066"
      },
      "source": [
        "from keras import backend as K\n",
        "\n",
        "get_3rd_layer_output = K.function([model.layers[0].input],[model.layers[2].output])\n",
        "layer_output = get_3rd_layer_output([X_t[:1]])[0]\n",
        "layer_output.shape"
      ],
      "execution_count": null,
      "outputs": [
        {
          "output_type": "execute_result",
          "data": {
            "text/plain": [
              "(1, 200, 60)"
            ]
          },
          "metadata": {
            "tags": []
          },
          "execution_count": 30
        }
      ]
    }
  ]
}